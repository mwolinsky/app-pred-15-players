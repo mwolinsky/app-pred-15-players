{
 "cells": [
  {
   "cell_type": "code",
   "execution_count": 2,
   "id": "d6df0337",
   "metadata": {},
   "outputs": [
    {
     "name": "stdout",
     "output_type": "stream",
     "text": [
      "[21:49:29] WARNING: C:/Users/Administrator/workspace/xgboost-win64_release_1.5.1/src/learner.cc:1115: Starting in XGBoost 1.3.0, the default evaluation metric used with the objective 'binary:logistic' was changed from 'error' to 'logloss'. Explicitly set eval_metric if you'd like to restore the old behavior.\n"
     ]
    },
    {
     "name": "stderr",
     "output_type": "stream",
     "text": [
      "C:\\Users\\Maty\\anaconda3\\envs\\dhdsblend2021\\lib\\site-packages\\xgboost\\sklearn.py:1224: UserWarning: The use of label encoder in XGBClassifier is deprecated and will be removed in a future release. To remove this warning, do the following: 1) Pass option use_label_encoder=False when constructing XGBClassifier object; and 2) Encode your labels (y) as integers starting with 0, i.e. 0, 1, 2, ..., [num_class - 1].\n",
      "  warnings.warn(label_encoder_deprecation_msg, UserWarning)\n"
     ]
    }
   ],
   "source": [
    "import pandas as pd \n",
    "import numpy as np \n",
    "import streamlit as st \n",
    "from PIL import Image \n",
    "from numpy import loadtxt\n",
    "from xgboost import XGBClassifier\n",
    "import urllib.request\n",
    "#Colocamos el lugar de donde extraer el csv\n",
    "data_location= \"https://raw.githubusercontent.com/mwolinsky/Ranking_predictor/main/england-premier-league-players-2018-to-2019-stats.csv\"\n",
    "\n",
    "#Leemos el csv con lo jugadores como indice\n",
    "df= pd.read_csv(data_location)\n",
    "\n",
    "#Comenzamos con la creación de la variable target, cuyo valor serán los mejores 15 jugadores de cada posición\n",
    "\n",
    "df['top_mid_15']=df.rank_in_league_top_midfielders.apply(lambda x: 1 if x>0 and x<=15 else 0)\n",
    "df['top_def_15']=df.rank_in_league_top_defenders.apply(lambda x: 1 if x>0 and x<=15 else 0)\n",
    "df['top_att_15']=df.rank_in_league_top_attackers.apply(lambda x: 1 if x>0 and x<=15 else 0)\n",
    "df['top_15']= df.apply(lambda x: 1 if x.top_mid_15==1 or x.top_def_15==1 or x.top_att_15==1 else 0,axis=1)\n",
    "df=df.drop(columns=['top_mid_15', 'top_att_15', 'top_def_15'])\n",
    "\n",
    "df['top_rank']=df.loc[:,['rank_in_league_top_attackers','rank_in_league_top_midfielders','rank_in_league_top_defenders']].apply(lambda x: x.min(),axis=1)\n",
    "\n",
    "\n",
    "categorical_columns=['position','Current Club','nationality']\n",
    "for column in categorical_columns:\n",
    "    dummies = pd.get_dummies(df[column], prefix=column,drop_first=True)\n",
    "    df = pd.concat([df, dummies], axis=1)\n",
    "    df = df.drop(columns=column)\n",
    "\n",
    "X=df.loc[:,['goals_per_90_overall', 'assists_per_90_overall', 'goals_involved_per_90_overall', 'min_per_conceded_overall', 'minutes_played_overall']]\n",
    "y= df.top_15\n",
    "\n",
    "from sklearn.model_selection import train_test_split\n",
    "\n",
    "#Con estratificación en y\n",
    "\n",
    "X_train, X_test, y_train, y_test = train_test_split(X, y, stratify=y,random_state=162)\n",
    "\n",
    "from sklearn.preprocessing import StandardScaler\n",
    "scaler = StandardScaler()\n",
    "X_train = pd.DataFrame(scaler.fit_transform(X_train),columns=X_train.columns)\n",
    "X_test = pd.DataFrame(scaler.transform(X_test),columns=X_test.columns)\n",
    "\n",
    "xgb = XGBClassifier(subsample= 0.8999999999999999,n_estimators=100, max_depth=6, learning_rate= 0.1,colsample_bytree= 0.6, colsample_bylevel= 0.7999999999999999)\n",
    "fit_model=xgb.fit(X_train, y_train)\n",
    "\n",
    "\n",
    "fit_model.save_model(\"xgb_model.json\")"
   ]
  },
  {
   "cell_type": "code",
   "execution_count": null,
   "id": "a628befe",
   "metadata": {},
   "outputs": [],
   "source": []
  }
 ],
 "metadata": {
  "kernelspec": {
   "display_name": "Python 3",
   "language": "python",
   "name": "python3"
  },
  "language_info": {
   "codemirror_mode": {
    "name": "ipython",
    "version": 3
   },
   "file_extension": ".py",
   "mimetype": "text/x-python",
   "name": "python",
   "nbconvert_exporter": "python",
   "pygments_lexer": "ipython3",
   "version": "3.8.10"
  }
 },
 "nbformat": 4,
 "nbformat_minor": 5
}
